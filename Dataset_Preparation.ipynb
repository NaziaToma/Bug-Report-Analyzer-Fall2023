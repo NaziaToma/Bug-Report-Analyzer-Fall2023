{
  "nbformat": 4,
  "nbformat_minor": 0,
  "metadata": {
    "colab": {
      "provenance": [],
      "authorship_tag": "ABX9TyMJ+eJe/DL3HDF+Ao2UYCdm",
      "include_colab_link": true
    },
    "kernelspec": {
      "name": "python3",
      "display_name": "Python 3"
    },
    "language_info": {
      "name": "python"
    }
  },
  "cells": [
    {
      "cell_type": "markdown",
      "metadata": {
        "id": "view-in-github",
        "colab_type": "text"
      },
      "source": [
        "<a href=\"https://colab.research.google.com/github/NaziaToma/BugType-and-BugFix-Predictor/blob/main/Dataset_Preparation.ipynb\" target=\"_parent\"><img src=\"https://colab.research.google.com/assets/colab-badge.svg\" alt=\"Open In Colab\"/></a>"
      ]
    },
    {
      "cell_type": "code",
      "execution_count": null,
      "metadata": {
        "colab": {
          "base_uri": "https://localhost:8080/"
        },
        "id": "TBTmvcgKl_0D",
        "outputId": "d5084a2f-26ab-4d2e-e574-40e99da63556"
      },
      "outputs": [
        {
          "output_type": "stream",
          "name": "stdout",
          "text": [
            "Mounted at /content/drive\n"
          ]
        }
      ],
      "source": [
        "from google.colab import drive\n",
        "drive.mount('/content/drive')"
      ]
    },
    {
      "cell_type": "code",
      "source": [
        "import pandas as pd\n",
        "import os\n",
        "\n",
        "def merge_csv_and_fill_empty(folder_path):\n",
        "    dfs = []\n",
        "\n",
        "    for file in os.listdir(folder_path):\n",
        "        if file.endswith('.csv'):\n",
        "            df = pd.read_csv(os.path.join(folder_path, file))\n",
        "            dfs.append(df)\n",
        "\n",
        "    merged_df = pd.concat(dfs, ignore_index=True)\n",
        "\n",
        "    merged_df.to_csv(os.path.join(folder_path, 'TrainingSet.csv'), index=False)\n",
        "\n",
        "folder_path = '/content/drive/MyDrive/Merge'\n",
        "merge_csv_and_fill_empty(folder_path)\n"
      ],
      "metadata": {
        "id": "7KdQZQMkm9SY"
      },
      "execution_count": null,
      "outputs": []
    }
  ]
}